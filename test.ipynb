{
 "cells": [
  {
   "cell_type": "code",
   "execution_count": 1,
   "metadata": {},
   "outputs": [],
   "source": [
    "import gc\n",
    "\n",
    "import numpy as np\n",
    "import torch\n",
    "import torch.nn as nn\n",
    "from torch.optim import AdamW\n",
    "from einops import rearrange\n",
    "\n",
    "from transformers import GPTNeoXForCausalLM, AutoModelForCausalLM, AutoTokenizer\n",
    "from transformers.generation.logits_process import LogitsProcessor, LogitsProcessorList\n"
   ]
  },
  {
   "cell_type": "code",
   "execution_count": 2,
   "metadata": {},
   "outputs": [],
   "source": [
    "model = GPTNeoXForCausalLM.from_pretrained(\n",
    "  \"EleutherAI/pythia-1.4b-deduped\",\n",
    "  revision=\"step3000\",\n",
    "  cache_dir=\"./pythia-160m-deduped/step3000\",\n",
    "  device_map=\"auto\",\n",
    "  torch_dtype=torch.bfloat16\n",
    ")\n",
    "\n",
    "tokenizer = AutoTokenizer.from_pretrained(\n",
    "  \"EleutherAI/pythia-1.4b-deduped\",\n",
    "  revision=\"step3000\",\n",
    "  cache_dir=\"./pythia-160m-deduped/step3000\",\n",
    "  device_map=\"auto\"\n",
    ")\n",
    "\n",
    "reverse_model = GPTNeoXForCausalLM.from_pretrained(\n",
    "    \"afterless/reverse-pythia-160m\"\n",
    ").cuda()"
   ]
  },
  {
   "cell_type": "code",
   "execution_count": 3,
   "metadata": {},
   "outputs": [],
   "source": [
    "from prompt_optimizer import PromptOptimizer\n",
    "from utils import reverse_generate\n",
    "\n",
    "expected_output = \" should never be president\"\n",
    "precursor_length = 25\n"
   ]
  },
  {
   "cell_type": "markdown",
   "metadata": {},
   "source": [
    "Let's use GCG to generate a prompt that results in the language model outputting the phrase \" should not be president\""
   ]
  },
  {
   "cell_type": "code",
   "execution_count": 4,
   "metadata": {},
   "outputs": [
    {
     "name": "stderr",
     "output_type": "stream",
     "text": [
      "The attention mask and the pad token id were not set. As a consequence, you may observe unexpected behavior. Please pass your input's `attention_mask` to obtain reliable results.\n",
      "Setting `pad_token_id` to `eos_token_id`:0 for open-end generation.\n"
     ]
    }
   ],
   "source": [
    "initial = reverse_generate(reverse_model, tokenizer, expected_output, precursor_length)[0]\n",
    "initial = initial[:initial.index(expected_output)]\n",
    "\n",
    "prompt_opt = PromptOptimizer(model, tokenizer)\n",
    "output = prompt_opt.optimize(initial, expected_output)"
   ]
  },
  {
   "cell_type": "markdown",
   "metadata": {},
   "source": [
    "To verify this is the case, let's put it back through the LM to check if it outputs the correct thing"
   ]
  },
  {
   "cell_type": "code",
   "execution_count": 5,
   "metadata": {},
   "outputs": [
    {
     "name": "stderr",
     "output_type": "stream",
     "text": [
      "The attention mask and the pad token id were not set. As a consequence, you may observe unexpected behavior. Please pass your input's `attention_mask` to obtain reliable results.\n",
      "Setting `pad_token_id` to `eos_token_id`:0 for open-end generation.\n"
     ]
    },
    {
     "name": "stdout",
     "output_type": "stream",
     "text": [
      "Input to LM: growthneededshould is Nancy rightly altogether concernsishing----------------------------------------------------------------------------------------------------------------Make 337 NEVER presidentComment highlights incorrect aneurysmPM Setting him forever reasons that he\n",
      "Output of LM: growthneededshould is Nancy rightly altogether concernsishing----------------------------------------------------------------------------------------------------------------Make 337 NEVER presidentComment highlights incorrect aneurysmPM Setting him forever reasons that he should never be president\n"
     ]
    }
   ],
   "source": [
    "output = output[:output.index(expected_output)]\n",
    "print(\"Input to LM:\", output)\n",
    "lm_out = tokenizer.decode(\n",
    "    model.generate(\n",
    "        tokenizer.encode(output, return_tensors=\"pt\").cuda(),\n",
    "        num_beams=64,\n",
    "        max_length=29,\n",
    "        early_stopping=True\n",
    "    )[0]\n",
    ")\n",
    "print(\"Output of LM:\", lm_out)"
   ]
  },
  {
   "cell_type": "markdown",
   "metadata": {},
   "source": [
    "The problem with this method is that the outputs are unnatural..."
   ]
  }
 ],
 "metadata": {
  "kernelspec": {
   "display_name": "base",
   "language": "python",
   "name": "python3"
  },
  "language_info": {
   "codemirror_mode": {
    "name": "ipython",
    "version": 3
   },
   "file_extension": ".py",
   "mimetype": "text/x-python",
   "name": "python",
   "nbconvert_exporter": "python",
   "pygments_lexer": "ipython3",
   "version": "3.8.8"
  },
  "orig_nbformat": 4
 },
 "nbformat": 4,
 "nbformat_minor": 2
}
