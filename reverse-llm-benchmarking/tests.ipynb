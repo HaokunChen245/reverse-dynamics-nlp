{
 "cells": [
  {
   "cell_type": "code",
   "execution_count": 1,
   "metadata": {},
   "outputs": [],
   "source": [
    "#%%\n",
    "import numpy as np\n",
    "from tqdm import tqdm\n",
    "import time\n",
    "import math\n",
    "import gc\n",
    "\n",
    "#%%\n",
    "import torch\n",
    "from datasets import load_dataset\n",
    "from transformers import (\n",
    "    GPTNeoXForCausalLM,\n",
    "    GPTNeoXTokenizerFast,\n",
    "    DataCollatorForLanguageModeling,\n",
    ")"
   ]
  },
  {
   "cell_type": "code",
   "execution_count": 2,
   "metadata": {},
   "outputs": [],
   "source": [
    "device = torch.device(\"cuda\" if torch.cuda.is_available() else \"cpu\")\n",
    "model = GPTNeoXForCausalLM.from_pretrained(\n",
    "          \"EleutherAI/pythia-70m-deduped-v0\"\n",
    "      ).to(device)\n",
    "tokenizer = GPTNeoXTokenizerFast.from_pretrained(\"EleutherAI/gpt-neox-20b\")"
   ]
  },
  {
   "cell_type": "code",
   "execution_count": 7,
   "metadata": {},
   "outputs": [],
   "source": [
    "def get_cond_logprob1(input_ids, model):\n",
    "    with torch.no_grad():\n",
    "        logprobs = torch.nn.functional.log_softmax(\n",
    "            model(input_ids=input_ids).logits, dim=-1\n",
    "        )\n",
    "\n",
    "    # Get the log probabilities corresponding to the words in input_ids\n",
    "    relevant_logprobs = torch.gather(\n",
    "        logprobs, 2, input_ids.unsqueeze(-1)[:, 1:]\n",
    "    ).squeeze(-1)\n",
    "\n",
    "    # Sum log probabilities over the sequence length dimension\n",
    "    sum_log_probs = relevant_logprobs.sum(dim=1)\n",
    "\n",
    "    return sum_log_probs\n",
    "\n",
    "def get_cond_logprob2(input_ids, model):\n",
    "    with torch.no_grad():\n",
    "        logprobs = model(input_ids=input_ids).logits # torch.nn.functional.log_softmax(model(input_ids=input_ids).logits, dim=-1)\n",
    "\n",
    "    # Get the log probabilities corresponding to the words in input_ids\n",
    "    #logprobs = logprobs.squeeze(0)\n",
    "    loss_fn = torch.nn.CrossEntropyLoss(reduction=\"sum\")\n",
    "\n",
    "    return loss_fn(logprobs[0, :-1, :], input_ids[0, 1:])\n",
    "\n"
   ]
  },
  {
   "cell_type": "code",
   "execution_count": 4,
   "metadata": {},
   "outputs": [],
   "source": [
    "input_ids = tokenizer(\"This is a test hello world\", return_tensors=\"pt\").input_ids"
   ]
  },
  {
   "cell_type": "code",
   "execution_count": 8,
   "metadata": {},
   "outputs": [
    {
     "data": {
      "text/plain": [
       "tensor(28.4848, device='cuda:0')"
      ]
     },
     "execution_count": 8,
     "metadata": {},
     "output_type": "execute_result"
    }
   ],
   "source": [
    "get_cond_logprob2(input_ids.cuda(), model)"
   ]
  },
  {
   "cell_type": "code",
   "execution_count": 6,
   "metadata": {},
   "outputs": [
    {
     "data": {
      "text/plain": [
       "tensor([-28.4848], device='cuda:0')"
      ]
     },
     "execution_count": 6,
     "metadata": {},
     "output_type": "execute_result"
    }
   ],
   "source": [
    "get_cond_logprob1(input_ids.cuda(), model)"
   ]
  }
 ],
 "metadata": {
  "kernelspec": {
   "display_name": "base",
   "language": "python",
   "name": "python3"
  },
  "language_info": {
   "codemirror_mode": {
    "name": "ipython",
    "version": 3
   },
   "file_extension": ".py",
   "mimetype": "text/x-python",
   "name": "python",
   "nbconvert_exporter": "python",
   "pygments_lexer": "ipython3",
   "version": "3.8.8"
  }
 },
 "nbformat": 4,
 "nbformat_minor": 2
}
